{
 "cells": [
  {
   "cell_type": "code",
   "execution_count": 5,
   "id": "0182b872",
   "metadata": {},
   "outputs": [],
   "source": [
    "from llm import Llm\n",
    "from graph import build_graph"
   ]
  },
  {
   "cell_type": "code",
   "execution_count": 6,
   "id": "8c0dcadf",
   "metadata": {},
   "outputs": [
    {
     "data": {
      "text/plain": [
       "{'messages': [HumanMessage(content='naredra modi', additional_kwargs={}, response_metadata={}, id='d18387ff-2486-421d-b8da-6dc4e239770a'),\n",
       "  AIMessage(content='', additional_kwargs={'tool_calls': [{'id': 'call_5LO30A5KzeXHCjK6wNi7TJnz', 'function': {'arguments': '{\"query\":\"Narendra Modi\"}', 'name': 'wikipedia'}, 'type': 'function'}], 'refusal': None}, response_metadata={'token_usage': {'completion_tokens': 15, 'prompt_tokens': 158, 'total_tokens': 173, 'completion_tokens_details': {'accepted_prediction_tokens': 0, 'audio_tokens': 0, 'reasoning_tokens': 0, 'rejected_prediction_tokens': 0}, 'prompt_tokens_details': {'audio_tokens': 0, 'cached_tokens': 0}}, 'model_name': 'gpt-4o-2024-08-06', 'system_fingerprint': 'fp_cbf1785567', 'id': 'chatcmpl-CHyu2L2CAaUc28kXmhhZiKl9No0lM', 'service_tier': 'default', 'finish_reason': 'tool_calls', 'logprobs': None}, id='run--3e5e4a0a-1f92-4340-b005-281e631cfd93-0', tool_calls=[{'name': 'wikipedia', 'args': {'query': 'Narendra Modi'}, 'id': 'call_5LO30A5KzeXHCjK6wNi7TJnz', 'type': 'tool_call'}], usage_metadata={'input_tokens': 158, 'output_tokens': 15, 'total_tokens': 173, 'input_token_details': {'audio': 0, 'cache_read': 0}, 'output_token_details': {'audio': 0, 'reasoning': 0}}),\n",
       "  ToolMessage(content='Page: Narendra Modi\\nSummary: Narendra Damodardas Modi (born 17 September 1950) is an Indian politician who has served as the  prime minister of India since 2014. Modi was the chief minister of Gujarat from 2001 to 2014 and is the member of parliament (MP) for Varanasi. He is a member of the Bharatiya Janata Party (BJP) and of the Rashtriya Swayamsevak Sangh (RSS), a right-wing Hindutva paramilitary volunteer organisation. He is the longest-serving prime minister outside the Indian National Congr', name='wikipedia', id='7b0ada9f-7d3c-4d5e-9eea-57115d14b4f9', tool_call_id='call_5LO30A5KzeXHCjK6wNi7TJnz'),\n",
       "  AIMessage(content='Narendra Damodardas Modi, born on 17 September 1950, is an Indian politician who has been serving as the Prime Minister of India since 2014. Before becoming Prime Minister, he was the Chief Minister of Gujarat from 2001 to 2014. Modi is a Member of Parliament for Varanasi and is affiliated with the Bharatiya Janata Party (BJP) and the Rashtriya Swayamsevak Sangh (RSS). He holds the distinction of being the longest-serving Prime Minister outside the Indian National Congress.', additional_kwargs={'refusal': None}, response_metadata={'token_usage': {'completion_tokens': 114, 'prompt_tokens': 306, 'total_tokens': 420, 'completion_tokens_details': {'accepted_prediction_tokens': 0, 'audio_tokens': 0, 'reasoning_tokens': 0, 'rejected_prediction_tokens': 0}, 'prompt_tokens_details': {'audio_tokens': 0, 'cached_tokens': 0}}, 'model_name': 'gpt-4o-2024-08-06', 'system_fingerprint': 'fp_cbf1785567', 'id': 'chatcmpl-CHyu6dZ6e2wrSX0KmqUasFcQc1qMk', 'service_tier': 'default', 'finish_reason': 'stop', 'logprobs': None}, id='run--ae7a2168-a7bc-4b13-81e2-696b90bc79e6-0', usage_metadata={'input_tokens': 306, 'output_tokens': 114, 'total_tokens': 420, 'input_token_details': {'audio': 0, 'cache_read': 0}, 'output_token_details': {'audio': 0, 'reasoning': 0}})]}"
      ]
     },
     "execution_count": 6,
     "metadata": {},
     "output_type": "execute_result"
    }
   ],
   "source": [
    "graph= build_graph()\n",
    "graph.invoke({\"messages\": [(\"user\", \"naredra modi\")]})"
   ]
  }
 ],
 "metadata": {
  "kernelspec": {
   "display_name": "env",
   "language": "python",
   "name": "python3"
  },
  "language_info": {
   "codemirror_mode": {
    "name": "ipython",
    "version": 3
   },
   "file_extension": ".py",
   "mimetype": "text/x-python",
   "name": "python",
   "nbconvert_exporter": "python",
   "pygments_lexer": "ipython3",
   "version": "3.12.11"
  }
 },
 "nbformat": 4,
 "nbformat_minor": 5
}
